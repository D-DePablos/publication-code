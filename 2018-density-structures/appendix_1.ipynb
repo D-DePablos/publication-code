{
 "cells": [
  {
   "cell_type": "markdown",
   "metadata": {},
   "source": [
    "White light structure intensity changes\n",
    "---\n",
    "This notebook illustrates how to predict the white-light signal of a number density structure."
   ]
  },
  {
   "cell_type": "code",
   "execution_count": 11,
   "metadata": {},
   "outputs": [],
   "source": [
    "%matplotlib inline\n",
    "import matplotlib.pyplot as plt\n",
    "import numpy as np\n",
    "import scipy.integrate as integrate\n",
    "import scipy.optimize as opt\n",
    "\n",
    "from astropy.constants import R_sun, au\n",
    "import astropy.units as u\n",
    "\n",
    "from methods import integrand_background, G_tot\n",
    "\n",
    "r_sun_AU = float(R_sun / au)  # Radius of the Sun in AU"
   ]
  },
  {
   "cell_type": "markdown",
   "metadata": {},
   "source": [
    "The change in intensity when a blob is present is given by\n",
    "$$ \\frac{\\delta I}{I_{0}} = \\delta z \\left [ \\frac{\\delta n}{n_{0}} \\right ] f \\left (r_{0}, r_{obs} \\right ) $$\n",
    "\n",
    "Where $\\delta z$ is the blob width along the line of sight, $\\delta n / n_{0}$ is the blob density over the background density, $r_{0}$ is the distance of the blob from the centre of the Sun, and $r_{obs}$ is the disntance of the observer from the centre of the Sun. See Appendix 1 in the paper for a derivation of this.\n",
    "\n",
    "The higher the value of $f$, the more visible blobs are.\n",
    "\n",
    "The function $f \\left (r_{0}, r_{obs} \\right )$ is given by\n",
    "$$\n",
    "    f \\left ( r_{0}, r_{obs} \\right ) = \\frac{n_{e} \\left ( r_{0} \\right ) G \\left ( r_{0} \\right ) z_{0}^{2}}{I_{0} \\left ( r_{0}, r_{obs} \\right )}\n",
    "$$\n",
    "The units of $f \\left ( r_{0} \\right )$ are inverse length.\n",
    "\n",
    "Definte a function to get the direction of the blob, given it lives on the Thompson sphere:"
   ]
  },
  {
   "cell_type": "code",
   "execution_count": 12,
   "metadata": {},
   "outputs": [],
   "source": [
    "def r_to_eps(r, r_obs):\n",
    "    '''\n",
    "    Returns Sun - Earth - blob angle assuming\n",
    "    blob lies on the Thompson sphere.\n",
    "    \n",
    "    r is sun-blob distance\n",
    "    r_obs is sun-observer distance\n",
    "    '''\n",
    "    return np.arcsin(r / r_obs)"
   ]
  },
  {
   "cell_type": "markdown",
   "metadata": {},
   "source": [
    "Now implement the f function defined above:"
   ]
  },
  {
   "cell_type": "code",
   "execution_count": 13,
   "metadata": {},
   "outputs": [],
   "source": [
    "def f(r, r_obs):\n",
    "    eps = r_to_eps(r, r_obs)\n",
    "    # Numerically evaluate the background intensity\n",
    "    I0 = integrate.quad(integrand_background, 0, np.inf, args=(eps, r_obs))[0]\n",
    "    # Take a 1/r^2 background number density\n",
    "    ne = 1 / r**2\n",
    "    # At large distances, this is the approximate form of the G function\n",
    "    G = (r / r_sun_AU)**-2\n",
    "    return G * ne / I0"
   ]
  },
  {
   "cell_type": "markdown",
   "metadata": {},
   "source": [
    "We can now plot f. We do this for observers at 1 AU and 0.3 AU.\n",
    "\n",
    "For small blob distances from the Sun, (at least $<$ 0.5 AU for the observer at 1 AU) the function is linear when plotted on a log-log scale."
   ]
  },
  {
   "cell_type": "code",
   "execution_count": 14,
   "metadata": {},
   "outputs": [
    {
     "name": "stdout",
     "output_type": "stream",
     "text": [
      "Fitted slope: 0.6358057370619518\n"
     ]
    },
    {
     "data": {
      "image/png": "[encoded data removed]",
      "text/plain": [
       "<Figure size 432x288 with 1 Axes>"
      ]
     },
     "metadata": {},
     "output_type": "display_data"
    }
   ],
   "source": [
    "fig, ax = plt.subplots()\n",
    "ax.set_xscale('log')\n",
    "ax.set_yscale('log')\n",
    "rs = np.logspace(np.log10(0.05), np.log10(0.5), 30)\n",
    "fs_1 = [f(r, 1) for r in rs]\n",
    "\n",
    "fs_1 = [f(r, 1) for r in rs]\n",
    "ax.scatter(rs, fs_1, label='Observer at 1 AU', marker='+')\n",
    "\n",
    "fs_point3 = [f(r, 0.3) for r in rs[rs < 0.3]]\n",
    "ax.scatter(rs[rs < 0.3], fs_point3, label='Observer at 0.3 AU', marker='+')\n",
    "\n",
    "# Fit a line of the form f(r) = a / r\n",
    "def fit(r, a):\n",
    "    return a / r\n",
    "\n",
    "popt, pcov = opt.curve_fit(fit, rs, fs_1, p0=(0.66))\n",
    "print('Fitted slope: {}'.format(popt[0]))\n",
    "ax.plot(rs, fit(rs, popt[0]), label='Fit', linestyle='-.')\n",
    "\n",
    "ax.legend()\n",
    "ax.set_xlabel('$r_{0}$ (AU)')\n",
    "ax.set_ylabel('f(r) (1/AU)');"
   ]
  },
  {
   "cell_type": "markdown",
   "metadata": {
    "collapsed": true
   },
   "source": [
    "We see that $1/f(r_{0})$ is linear with $r_{0}$, with $f(r_{0})\\cdot r_{0} \\approx 0.64$. This gives the relation\n",
    "$$ f(r_{0}) \\approx \\frac{0.64}{r_{0}}$$\n",
    "which leads to\n",
    "$$\n",
    "\\frac{\\delta I}{I_{0}} = 0.64 \\frac{\\delta z}{r_{0}} \\frac{\\delta n}{n}\n",
    "$$"
   ]
  }
 ],
 "metadata": {
  "kernelspec": {
   "display_name": "Python 3",
   "language": "python",
   "name": "python3"
  },
  "language_info": {
   "codemirror_mode": {
    "name": "ipython",
    "version": 3
   },
   "file_extension": ".py",
   "mimetype": "text/x-python",
   "name": "python",
   "nbconvert_exporter": "python",
   "pygments_lexer": "ipython3",
   "version": "3.6.3"
  }
 },
 "nbformat": 4,
 "nbformat_minor": 2
}
